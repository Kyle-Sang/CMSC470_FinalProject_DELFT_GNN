{
 "cells": [
  {
   "attachments": {},
   "cell_type": "markdown",
   "metadata": {},
   "source": [
    "# DEMO FILE\n",
    "##### Kyle Sang\n"
   ]
  },
  {
   "attachments": {},
   "cell_type": "markdown",
   "metadata": {},
   "source": [
    "### Loading Haystack Pipeline\n",
    "Download the database file here: https://drive.google.com/file/d/1PBxwupuJB5RqyjCnmMDCRDW29MK4fw_8/view?usp=share_link\n",
    "Download the FAISS file here: https://drive.google.com/file/d/1QEqdGUj5MBcvfMMv37QVfzt5Z0CmiXoe/view?usp=share_link"
   ]
  },
  {
   "cell_type": "code",
   "execution_count": 1,
   "metadata": {},
   "outputs": [
    {
     "name": "stderr",
     "output_type": "stream",
     "text": [
      "/usr/local/lib/python3.8/dist-packages/tqdm/auto.py:22: TqdmWarning: IProgress not found. Please update jupyter and ipywidgets. See https://ipywidgets.readthedocs.io/en/stable/user_install.html\n",
      "  from .autonotebook import tqdm as notebook_tqdm\n",
      "/usr/local/lib/python3.8/dist-packages/haystack/nodes/base.py:46: DeprecationWarning: Use `embedding_dim` as the 'vector_dim' parameter is deprecated.\n",
      "  init_func(self, *args, **kwargs)\n"
     ]
    }
   ],
   "source": [
    "from haystack.document_stores.faiss import FAISSDocumentStore\n",
    "\n",
    "new_document_store = FAISSDocumentStore.load(index_path=\"QAindex.faiss\", config_path=\"QAconfig.json\")"
   ]
  },
  {
   "cell_type": "code",
   "execution_count": 2,
   "metadata": {},
   "outputs": [
    {
     "name": "stderr",
     "output_type": "stream",
     "text": [
      "Some weights of RetriBertModel were not initialized from the model checkpoint at yjernite/retribert-base-uncased and are newly initialized: ['bert_query.embeddings.position_ids']\n",
      "You should probably TRAIN this model on a down-stream task to be able to use it for predictions and inference.\n"
     ]
    }
   ],
   "source": [
    "from haystack.nodes import EmbeddingRetriever\n",
    "\n",
    "retriever = EmbeddingRetriever(document_store=new_document_store,\n",
    "                               embedding_model=\"yjernite/retribert-base-uncased\",\n",
    "                               model_format=\"retribert\")"
   ]
  },
  {
   "cell_type": "code",
   "execution_count": 11,
   "metadata": {},
   "outputs": [],
   "source": [
    "from haystack.utils import print_answers, print_documents\n",
    "from haystack.pipelines import DocumentSearchPipeline\n",
    "\n",
    "question = \"Who was the father of Arya Stark?\"\n",
    "p_retrieval = DocumentSearchPipeline(retriever)\n",
    "res = p_retrieval.run(\n",
    "    query=question,\n",
    "    params={\"Retriever\":{\"top_k\":10}}\n",
    ")\n",
    "context = \"\"\n",
    "for document in res['documents']:\n",
    "    context += document.content"
   ]
  },
  {
   "cell_type": "code",
   "execution_count": 12,
   "metadata": {},
   "outputs": [
    {
     "name": "stdout",
     "output_type": "stream",
     "text": [
      "\n",
      "Query: Who was the father of Arya Stark?\n",
      "\n",
      "{   'content': 'would leave.\\n'\n",
      "               \"Although the saga author puts stock in Melkorka's royal Irish \"\n",
      "               \"heritage, as seen through both Höskuldr's reaction to the \"\n",
      "               'revelation (\"Hoskuld said that she had too long concealed such '\n",
      "               'a noble birth.\") as well as Egill Skallagrímsson\\'s when '\n",
      "               'spea...',\n",
      "    'name': 'Jorunn Bjarnadottir'}\n",
      "\n",
      "{   'content': 'Freya Stark Early life and studies Stark was born on 31 '\n",
      "               'January 1893 in Paris, where her parents were studying art. '\n",
      "               'Her mother, Flora, was an Italian of Polish-German descent; '\n",
      "               'her father, Robert, an English painter from Devon. Stark spent '\n",
      "               'much of her child...',\n",
      "    'name': 'Freya Stark'}\n",
      "\n",
      "{   'content': 'Stark is portrayed by English actress Maisie Williams in the '\n",
      "               \"television adaption of the book series, this being Williams' \"\n",
      "               'first role as an actress. Williams was chosen from among 300 '\n",
      "               'actresses across England. Season 1 Arya accompanies her father '\n",
      "               'Ned and he...',\n",
      "    'name': 'Arya Stark'}\n",
      "\n",
      "{   'content': 'King Olav IV, who died in 1387, commonly claimed descent from '\n",
      "               'Harald Fairhair. Saga descriptions In the Saga of Harald '\n",
      "               'Hårfagre from Heimskringla by Snorri Sturluson, the '\n",
      "               'consolidation of the rule of Norway by Harald Fairhair was '\n",
      "               'somewhat of a love story. ...',\n",
      "    'name': 'Unification of Norway'}\n",
      "\n",
      "{   'content': 'sons, Heimskringla, Hervarar Saga, Sögubrot, and many other '\n",
      "               'Icelandic sources, Ragnar was the son of the Scandinavian king '\n",
      "               'Sigurd Ring. Nearly all of the sagas agree that Randver was '\n",
      "               \"Sigurd's father, with the Hervarar saga citing his wife as \"\n",
      "               'Åsa, the daugh...',\n",
      "    'name': 'Ragnar Lodbrok'}\n",
      "\n",
      "{   'content': 'an invention of the sagawriters as it does not feature '\n",
      "               'directly in the earlier skaldic verses, which instead indicate '\n",
      "               'that Hálfdan was killed by a volley of spears. The verses do '\n",
      "               'mention the eagle as a carrion bird, and this may have '\n",
      "               'influenced the saga wr...',\n",
      "    'name': 'Torf-Einarr'}\n",
      "\n",
      "{   'content': 'King Gustavus Adolphus of Sweden. It was the tradition in '\n",
      "               'Sweden in this period that noble children born out of wedlock '\n",
      "               'were acknowledged by their fathers, as long as they were not '\n",
      "               'the product of adultery. Carl Carlsson was ennobled in 1592 '\n",
      "               'with the surnam...',\n",
      "    'name': 'Carl Gyllenhielm'}\n",
      "\n",
      "{   'content': 'Brusi Sigurdsson Family background The Orkneyinga Saga reports '\n",
      "               'that when their father Earl Sigurd was killed at the Battle of '\n",
      "               'Clontarf in 1014, the Norse earldom was divided between his '\n",
      "               'three oldest sons, Brusi, Sumarlidi, and Einar \"Wry-Mouth\". '\n",
      "               'The younge...',\n",
      "    'name': 'Brusi Sigurdsson'}\n",
      "\n",
      "{   'content': 'sources of the 12th and 13th centuries, which are of limited '\n",
      "               'and uncertain historical value and should therefore be treated '\n",
      "               \"with due circumspection. Harald 'Fairhair' is usually \"\n",
      "               'portrayed as a polygamous and fertile king, the number of his '\n",
      "               'sons varying bet...',\n",
      "    'name': 'Eric Bloodaxe'}\n",
      "\n",
      "{   'content': 'was then banished. Halfdan escaped into the western seas and '\n",
      "               \"Rognvald's death was later avenged by Torf-Einarr, who killed \"\n",
      "               'him on North Ronaldsay and then made peace with Harald. '\n",
      "               \"Rognvald's son Thorir was then made Earl of Møre by Harald, \"\n",
      "               'who also gave Tho...',\n",
      "    'name': 'Rognvald Eysteinsson'}\n",
      "\n"
     ]
    }
   ],
   "source": [
    "print_documents(res, max_text_len=256)"
   ]
  },
  {
   "attachments": {},
   "cell_type": "markdown",
   "metadata": {},
   "source": [
    "### Base Huggingface Model"
   ]
  },
  {
   "cell_type": "code",
   "execution_count": 13,
   "metadata": {},
   "outputs": [
    {
     "name": "stderr",
     "output_type": "stream",
     "text": [
      "No model was supplied, defaulted to distilbert-base-cased-distilled-squad and revision 626af31 (https://huggingface.co/distilbert-base-cased-distilled-squad).\n",
      "Using a pipeline without specifying a model name and revision in production is not recommended.\n"
     ]
    },
    {
     "data": {
      "text/plain": [
       "{'score': 0.6770011186599731, 'start': 795, 'end': 801, 'answer': 'Robert'}"
      ]
     },
     "execution_count": 13,
     "metadata": {},
     "output_type": "execute_result"
    }
   ],
   "source": [
    "from transformers import pipeline\n",
    "\n",
    "qa_model = pipeline(\"question-answering\")\n",
    "qa_model(question = question, context = context)"
   ]
  },
  {
   "attachments": {},
   "cell_type": "markdown",
   "metadata": {},
   "source": [
    "### Roberta Fine-Tuned on HotpotQA"
   ]
  },
  {
   "cell_type": "code",
   "execution_count": 14,
   "metadata": {},
   "outputs": [
    {
     "name": "stderr",
     "output_type": "stream",
     "text": [
      "Some weights of the model checkpoint at roberta-base were not used when initializing RobertaForQuestionAnswering: ['lm_head.dense.bias', 'lm_head.dense.weight', 'lm_head.bias', 'lm_head.layer_norm.bias', 'lm_head.decoder.weight', 'lm_head.layer_norm.weight']\n",
      "- This IS expected if you are initializing RobertaForQuestionAnswering from the checkpoint of a model trained on another task or with another architecture (e.g. initializing a BertForSequenceClassification model from a BertForPreTraining model).\n",
      "- This IS NOT expected if you are initializing RobertaForQuestionAnswering from the checkpoint of a model that you expect to be exactly identical (initializing a BertForSequenceClassification model from a BertForSequenceClassification model).\n",
      "Some weights of RobertaForQuestionAnswering were not initialized from the model checkpoint at roberta-base and are newly initialized: ['qa_outputs.bias', 'qa_outputs.weight']\n",
      "You should probably TRAIN this model on a down-stream task to be able to use it for predictions and inference.\n",
      "Fetching 6 files: 100%|██████████| 6/6 [00:00<00:00, 91180.52it/s]\n"
     ]
    },
    {
     "data": {
      "text/plain": [
       "{'score': 0.9350637793540955,\n",
       " 'start': 4280,\n",
       " 'end': 4291,\n",
       " 'answer': 'Earl Sigurd'}"
      ]
     },
     "execution_count": 14,
     "metadata": {},
     "output_type": "execute_result"
    }
   ],
   "source": [
    "from transformers import RobertaForQuestionAnswering, RobertaTokenizerFast\n",
    "from transformers import pipeline\n",
    "model = RobertaForQuestionAnswering.from_pretrained(\"roberta-base\")\n",
    "model.load_adapter(\"UKP-SQuARE/HotpotQA_Adapter_RoBERTa\",  source=\"hf\")\n",
    "model.set_active_adapters(\"HotpotQA\")\n",
    "\n",
    "tokenizer = RobertaTokenizerFast.from_pretrained('roberta-base')\n",
    "\n",
    "pipe = pipeline(\"question-answering\", model=model, tokenizer=tokenizer)\n",
    "pipe({\"question\": question,  \"context\": context})"
   ]
  },
  {
   "attachments": {},
   "cell_type": "markdown",
   "metadata": {},
   "source": [
    "### Haystack Model"
   ]
  },
  {
   "cell_type": "code",
   "execution_count": 15,
   "metadata": {},
   "outputs": [],
   "source": [
    "from haystack.nodes import FARMReader\n",
    "\n",
    "reader = FARMReader(model_name_or_path=\"deepset/roberta-base-squad2\", use_gpu=True)"
   ]
  },
  {
   "cell_type": "code",
   "execution_count": 16,
   "metadata": {},
   "outputs": [],
   "source": [
    "from haystack.pipelines import ExtractiveQAPipeline\n",
    "\n",
    "pipe = ExtractiveQAPipeline(reader, retriever)"
   ]
  },
  {
   "cell_type": "code",
   "execution_count": 21,
   "metadata": {},
   "outputs": [
    {
     "name": "stderr",
     "output_type": "stream",
     "text": [
      "Inferencing Samples: 100%|██████████| 1/1 [00:00<00:00, 55.42 Batches/s]\n"
     ]
    }
   ],
   "source": [
    "prediction = pipe.run(\n",
    "    query=question,\n",
    "    params={\n",
    "        \"Retriever\": {\"top_k\": 10},\n",
    "        \"Reader\": {\"top_k\": 1}\n",
    "    }\n",
    ")"
   ]
  },
  {
   "cell_type": "code",
   "execution_count": 22,
   "metadata": {},
   "outputs": [
    {
     "name": "stdout",
     "output_type": "stream",
     "text": [
      "'Query: Who was the father of Arya Stark?'\n",
      "'Answers:'\n",
      "[   {   'answer': 'Ned',\n",
      "        'context': ' among 300 actresses across England. Season 1 Arya '\n",
      "                   \"accompanies her father Ned and her sister Sansa to King's \"\n",
      "                   \"Landing. Before their departure, Arya's h\"}]\n"
     ]
    }
   ],
   "source": [
    "from haystack.utils import print_answers\n",
    "\n",
    "print_answers(\n",
    "    prediction,\n",
    "    details=\"minimum\"\n",
    ")"
   ]
  }
 ],
 "metadata": {
  "kernelspec": {
   "display_name": "Python 3",
   "language": "python",
   "name": "python3"
  },
  "language_info": {
   "codemirror_mode": {
    "name": "ipython",
    "version": 3
   },
   "file_extension": ".py",
   "mimetype": "text/x-python",
   "name": "python",
   "nbconvert_exporter": "python",
   "pygments_lexer": "ipython3",
   "version": "3.8.10"
  },
  "orig_nbformat": 4
 },
 "nbformat": 4,
 "nbformat_minor": 2
}
